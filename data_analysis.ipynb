{
 "cells": [
  {
   "cell_type": "code",
   "execution_count": 2,
   "metadata": {},
   "outputs": [],
   "source": [
    "from pandas import read_csv\n",
    "from seaborn import pairplot, heatmap\n",
    "from matplotlib import pyplot as plt\n",
    "from scipy.signal import find_peaks"
   ]
  },
  {
   "cell_type": "code",
   "execution_count": 3,
   "metadata": {},
   "outputs": [],
   "source": [
    "data = read_csv(\"data/preprocessed_data.csv\")\n",
    "data.dropna(inplace=True)"
   ]
  },
  {
   "cell_type": "code",
   "execution_count": 4,
   "metadata": {},
   "outputs": [
    {
     "data": {
      "text/html": [
       "<div>\n",
       "<style scoped>\n",
       "    .dataframe tbody tr th:only-of-type {\n",
       "        vertical-align: middle;\n",
       "    }\n",
       "\n",
       "    .dataframe tbody tr th {\n",
       "        vertical-align: top;\n",
       "    }\n",
       "\n",
       "    .dataframe thead th {\n",
       "        text-align: right;\n",
       "    }\n",
       "</style>\n",
       "<table border=\"1\" class=\"dataframe\">\n",
       "  <thead>\n",
       "    <tr style=\"text-align: right;\">\n",
       "      <th></th>\n",
       "      <th>Unnamed: 0</th>\n",
       "      <th>trigger_ts_utc</th>\n",
       "      <th>measured_value</th>\n",
       "      <th>ns</th>\n",
       "      <th>machine</th>\n",
       "      <th>errection_location</th>\n",
       "      <th>installation_location</th>\n",
       "      <th>components</th>\n",
       "      <th>sensor_type</th>\n",
       "    </tr>\n",
       "  </thead>\n",
       "  <tbody>\n",
       "    <tr>\n",
       "      <th>1</th>\n",
       "      <td>1</td>\n",
       "      <td>2024-10-31 12:51:52.139911+00:00</td>\n",
       "      <td>0.004774</td>\n",
       "      <td>5</td>\n",
       "      <td>==0192E0020=C03DR3</td>\n",
       "      <td>ST000</td>\n",
       "      <td>AP002</td>\n",
       "      <td>BF02</td>\n",
       "      <td>ConsumptionWater</td>\n",
       "    </tr>\n",
       "    <tr>\n",
       "      <th>7</th>\n",
       "      <td>7</td>\n",
       "      <td>2024-10-31 01:14:50.846157+00:00</td>\n",
       "      <td>0.004774</td>\n",
       "      <td>5</td>\n",
       "      <td>==0192E0020=C03DR3</td>\n",
       "      <td>ST000</td>\n",
       "      <td>AP002</td>\n",
       "      <td>BF02</td>\n",
       "      <td>ConsumptionWater</td>\n",
       "    </tr>\n",
       "    <tr>\n",
       "      <th>43</th>\n",
       "      <td>43</td>\n",
       "      <td>2024-10-31 01:15:50.846157+00:00</td>\n",
       "      <td>0.004774</td>\n",
       "      <td>5</td>\n",
       "      <td>==0192E0020=C03DR3</td>\n",
       "      <td>ST000</td>\n",
       "      <td>AP002</td>\n",
       "      <td>BF02</td>\n",
       "      <td>ConsumptionWater</td>\n",
       "    </tr>\n",
       "    <tr>\n",
       "      <th>59</th>\n",
       "      <td>59</td>\n",
       "      <td>2024-10-31 12:52:52.139908+00:00</td>\n",
       "      <td>0.004774</td>\n",
       "      <td>5</td>\n",
       "      <td>==0192E0020=C03DR3</td>\n",
       "      <td>ST000</td>\n",
       "      <td>AP002</td>\n",
       "      <td>BF02</td>\n",
       "      <td>ConsumptionWater</td>\n",
       "    </tr>\n",
       "    <tr>\n",
       "      <th>87</th>\n",
       "      <td>87</td>\n",
       "      <td>2024-10-31 01:16:50.846157+00:00</td>\n",
       "      <td>0.007161</td>\n",
       "      <td>5</td>\n",
       "      <td>==0192E0020=C03DR3</td>\n",
       "      <td>ST000</td>\n",
       "      <td>AP002</td>\n",
       "      <td>BF02</td>\n",
       "      <td>ConsumptionWater</td>\n",
       "    </tr>\n",
       "  </tbody>\n",
       "</table>\n",
       "</div>"
      ],
      "text/plain": [
       "    Unnamed: 0                    trigger_ts_utc  measured_value  ns  \\\n",
       "1            1  2024-10-31 12:51:52.139911+00:00        0.004774   5   \n",
       "7            7  2024-10-31 01:14:50.846157+00:00        0.004774   5   \n",
       "43          43  2024-10-31 01:15:50.846157+00:00        0.004774   5   \n",
       "59          59  2024-10-31 12:52:52.139908+00:00        0.004774   5   \n",
       "87          87  2024-10-31 01:16:50.846157+00:00        0.007161   5   \n",
       "\n",
       "               machine errection_location installation_location components  \\\n",
       "1   ==0192E0020=C03DR3              ST000                 AP002       BF02   \n",
       "7   ==0192E0020=C03DR3              ST000                 AP002       BF02   \n",
       "43  ==0192E0020=C03DR3              ST000                 AP002       BF02   \n",
       "59  ==0192E0020=C03DR3              ST000                 AP002       BF02   \n",
       "87  ==0192E0020=C03DR3              ST000                 AP002       BF02   \n",
       "\n",
       "         sensor_type  \n",
       "1   ConsumptionWater  \n",
       "7   ConsumptionWater  \n",
       "43  ConsumptionWater  \n",
       "59  ConsumptionWater  \n",
       "87  ConsumptionWater  "
      ]
     },
     "execution_count": 4,
     "metadata": {},
     "output_type": "execute_result"
    }
   ],
   "source": [
    "_data = data.loc[data.errection_location==\"ST000\"].loc[data.installation_location==\"AP002\"].loc[data.sensor_type==\"ConsumptionWater\"]\n",
    "_data.head()"
   ]
  },
  {
   "cell_type": "code",
   "execution_count": 11,
   "metadata": {},
   "outputs": [
    {
     "name": "stdout",
     "output_type": "stream",
     "text": [
      "[0.         0.         0.         ... 0.00529948 0.00529948 0.00531539]\n"
     ]
    },
    {
     "data": {
      "text/plain": [
       "[<matplotlib.lines.Line2D at 0x1bfddcee5d0>]"
      ]
     },
     "execution_count": 11,
     "metadata": {},
     "output_type": "execute_result"
    },
    {
     "data": {
      "image/png": "[encoded data removed]",
      "text/plain": [
       "<Figure size 640x480 with 1 Axes>"
      ]
     },
     "metadata": {},
     "output_type": "display_data"
    }
   ],
   "source": [
    "x = _data.measured_value.rolling(50).mean().fillna(0).values\n",
    "print(x)\n",
    "\n",
    "minimum = min(x)\n",
    "maximum = max(x)\n",
    "prominance = (maximum-minimum)/3\n",
    "\n",
    "peaks, _ = find_peaks(x, prominence=prominance)\n",
    "\n",
    "plt.plot(x)\n",
    "plt.plot(peaks, x[peaks], \"x\")"
   ]
  }
 ],
 "metadata": {
  "kernelspec": {
   "display_name": "Python 3",
   "language": "python",
   "name": "python3"
  },
  "language_info": {
   "codemirror_mode": {
    "name": "ipython",
    "version": 3
   },
   "file_extension": ".py",
   "mimetype": "text/x-python",
   "name": "python",
   "nbconvert_exporter": "python",
   "pygments_lexer": "ipython3",
   "version": "3.13.0"
  }
 },
 "nbformat": 4,
 "nbformat_minor": 2
}
