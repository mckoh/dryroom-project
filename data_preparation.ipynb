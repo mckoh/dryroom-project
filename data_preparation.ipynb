{
 "cells": [
  {
   "cell_type": "markdown",
   "metadata": {},
   "source": [
    "# BMW Project Scouting"
   ]
  },
  {
   "cell_type": "code",
   "execution_count": 1,
   "metadata": {},
   "outputs": [],
   "source": [
    "from pandas import read_csv\n",
    "from bmwprophet.preprocessing import key_value_mapper"
   ]
  },
  {
   "cell_type": "code",
   "execution_count": 2,
   "metadata": {},
   "outputs": [],
   "source": [
    "data = read_csv(\"data/Dry_room_Last_month.csv\", parse_dates=[0, 1, 7])"
   ]
  },
  {
   "cell_type": "markdown",
   "metadata": {},
   "source": [
    "## Quick Column Exploration"
   ]
  },
  {
   "cell_type": "code",
   "execution_count": 3,
   "metadata": {},
   "outputs": [
    {
     "name": "stdout",
     "output_type": "stream",
     "text": [
      "[ ]: Column 'ts_utc' has 823997 unique values\n",
      "[ ]: Column 'trigger_ts_utc' has 42827 unique values\n",
      "[ ]: Column 'part_item_number' has 2 unique values\n",
      "[!]: Column 'part_id' has 1 unique values\n",
      "[!]: Column 'opc_ua_status' has 1 unique values\n",
      "[ ]: Column 'opc_ua_has_changed_since_last_publish' has 2 unique values\n",
      "[ ]: Column 'message_id' has 42827 unique values\n",
      "[ ]: Column 'measurement_date' has 31 unique values\n",
      "[ ]: Column 'measured_value_datatype' has 2 unique values\n",
      "[ ]: Column 'measured_value' has 86738 unique values\n",
      "[!]: Column 'machine_id' has 1 unique values\n",
      "[!]: Column 'line' has 1 unique values\n",
      "[ ]: Column 'data_key_val_string' has 94 unique values\n"
     ]
    }
   ],
   "source": [
    "for column in data.columns:\n",
    "    unique_values =  len(data[column].value_counts())\n",
    "    flag = \"!\" if unique_values == 1 else \" \"\n",
    "    print(f\"[{flag}]: Column '{column}' has {unique_values} unique values\")\n",
    "    del flag, unique_values"
   ]
  },
  {
   "cell_type": "code",
   "execution_count": 4,
   "metadata": {},
   "outputs": [],
   "source": [
    "use_columns = [\n",
    "    \"trigger_ts_utc\",\n",
    "    \"measured_value\",\n",
    "    \"data_key_val_string\"\n",
    "]"
   ]
  },
  {
   "cell_type": "markdown",
   "metadata": {},
   "source": [
    "## Data Cleaning"
   ]
  },
  {
   "cell_type": "code",
   "execution_count": 5,
   "metadata": {},
   "outputs": [],
   "source": [
    "projected_data = data[use_columns].copy()"
   ]
  },
  {
   "cell_type": "markdown",
   "metadata": {},
   "source": [
    "## More Scouting on last column"
   ]
  },
  {
   "cell_type": "code",
   "execution_count": 6,
   "metadata": {},
   "outputs": [],
   "source": [
    "column = data[\"data_key_val_string\"]\n",
    "column_new = column.map(key_value_mapper)\n",
    "\n",
    "projected_data.loc[:,\"ns\"], \\\n",
    "    projected_data.loc[:,\"machine\"], \\\n",
    "    projected_data.loc[:,\"errection_location\"], \\\n",
    "    projected_data.loc[:,\"installation_location\"], \\\n",
    "    projected_data.loc[:,\"components\"], \\\n",
    "    projected_data.loc[:,\"sensor_type\"] = zip(*column_new)\n",
    "\n",
    "projected_data.drop(\"data_key_val_string\", axis=1, inplace=True)"
   ]
  },
  {
   "cell_type": "code",
   "execution_count": 7,
   "metadata": {},
   "outputs": [
    {
     "data": {
      "text/html": [
       "<div>\n",
       "<style scoped>\n",
       "    .dataframe tbody tr th:only-of-type {\n",
       "        vertical-align: middle;\n",
       "    }\n",
       "\n",
       "    .dataframe tbody tr th {\n",
       "        vertical-align: top;\n",
       "    }\n",
       "\n",
       "    .dataframe thead th {\n",
       "        text-align: right;\n",
       "    }\n",
       "</style>\n",
       "<table border=\"1\" class=\"dataframe\">\n",
       "  <thead>\n",
       "    <tr style=\"text-align: right;\">\n",
       "      <th></th>\n",
       "      <th>trigger_ts_utc</th>\n",
       "      <th>measured_value</th>\n",
       "      <th>ns</th>\n",
       "      <th>machine</th>\n",
       "      <th>errection_location</th>\n",
       "      <th>installation_location</th>\n",
       "      <th>components</th>\n",
       "      <th>sensor_type</th>\n",
       "    </tr>\n",
       "  </thead>\n",
       "  <tbody>\n",
       "    <tr>\n",
       "      <th>0</th>\n",
       "      <td>2024-10-31 01:14:50.846157+00:00</td>\n",
       "      <td>30944.000000</td>\n",
       "      <td>5</td>\n",
       "      <td>==0192E0020=C03DR3</td>\n",
       "      <td>None</td>\n",
       "      <td>None</td>\n",
       "      <td>None</td>\n",
       "      <td>DataPublishTrigger</td>\n",
       "    </tr>\n",
       "    <tr>\n",
       "      <th>1</th>\n",
       "      <td>2024-10-31 12:51:52.139911+00:00</td>\n",
       "      <td>0.004774</td>\n",
       "      <td>5</td>\n",
       "      <td>==0192E0020=C03DR3</td>\n",
       "      <td>++ST000</td>\n",
       "      <td>+AP002</td>\n",
       "      <td>-BF02</td>\n",
       "      <td>ConsumptionWater</td>\n",
       "    </tr>\n",
       "    <tr>\n",
       "      <th>2</th>\n",
       "      <td>2024-10-31 12:51:52.139911+00:00</td>\n",
       "      <td>3.647569</td>\n",
       "      <td>5</td>\n",
       "      <td>==0192E0020=C03DR3</td>\n",
       "      <td>++ST000</td>\n",
       "      <td>+AZ001</td>\n",
       "      <td>-BF01</td>\n",
       "      <td>ConsumptionWater</td>\n",
       "    </tr>\n",
       "    <tr>\n",
       "      <th>3</th>\n",
       "      <td>2024-10-31 12:51:52.139911+00:00</td>\n",
       "      <td>5.999756</td>\n",
       "      <td>5</td>\n",
       "      <td>==0192E0020=C03DR3</td>\n",
       "      <td>++ST000</td>\n",
       "      <td>+AZ001</td>\n",
       "      <td>-BT31</td>\n",
       "      <td>Temperature</td>\n",
       "    </tr>\n",
       "    <tr>\n",
       "      <th>4</th>\n",
       "      <td>2024-10-31 12:51:52.139911+00:00</td>\n",
       "      <td>12.099854</td>\n",
       "      <td>5</td>\n",
       "      <td>==0192E0020=C03DR3</td>\n",
       "      <td>++ST000</td>\n",
       "      <td>+AZ001</td>\n",
       "      <td>-BT32</td>\n",
       "      <td>Temperature</td>\n",
       "    </tr>\n",
       "  </tbody>\n",
       "</table>\n",
       "</div>"
      ],
      "text/plain": [
       "                    trigger_ts_utc  measured_value  ns             machine  \\\n",
       "0 2024-10-31 01:14:50.846157+00:00    30944.000000   5  ==0192E0020=C03DR3   \n",
       "1 2024-10-31 12:51:52.139911+00:00        0.004774   5  ==0192E0020=C03DR3   \n",
       "2 2024-10-31 12:51:52.139911+00:00        3.647569   5  ==0192E0020=C03DR3   \n",
       "3 2024-10-31 12:51:52.139911+00:00        5.999756   5  ==0192E0020=C03DR3   \n",
       "4 2024-10-31 12:51:52.139911+00:00       12.099854   5  ==0192E0020=C03DR3   \n",
       "\n",
       "  errection_location installation_location components         sensor_type  \n",
       "0               None                  None       None  DataPublishTrigger  \n",
       "1            ++ST000                +AP002      -BF02    ConsumptionWater  \n",
       "2            ++ST000                +AZ001      -BF01    ConsumptionWater  \n",
       "3            ++ST000                +AZ001      -BT31         Temperature  \n",
       "4            ++ST000                +AZ001      -BT32         Temperature  "
      ]
     },
     "execution_count": 7,
     "metadata": {},
     "output_type": "execute_result"
    }
   ],
   "source": [
    "projected_data.head()"
   ]
  },
  {
   "cell_type": "code",
   "execution_count": 8,
   "metadata": {},
   "outputs": [],
   "source": [
    "projected_data.to_csv(\"data/preprocessed_data.csv\")"
   ]
  },
  {
   "cell_type": "code",
   "execution_count": null,
   "metadata": {},
   "outputs": [],
   "source": []
  }
 ],
 "metadata": {
  "kernelspec": {
   "display_name": "Python 3",
   "language": "python",
   "name": "python3"
  },
  "language_info": {
   "codemirror_mode": {
    "name": "ipython",
    "version": 3
   },
   "file_extension": ".py",
   "mimetype": "text/x-python",
   "name": "python",
   "nbconvert_exporter": "python",
   "pygments_lexer": "ipython3",
   "version": "3.12.6"
  }
 },
 "nbformat": 4,
 "nbformat_minor": 2
}
