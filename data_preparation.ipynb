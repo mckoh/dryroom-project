{
 "cells": [
  {
   "cell_type": "markdown",
   "metadata": {},
   "source": [
    "# BMW Project Scouting"
   ]
  },
  {
   "cell_type": "code",
   "execution_count": 1,
   "metadata": {},
   "outputs": [],
   "source": [
    "from bmwprophet.loader import Loader"
   ]
  },
  {
   "cell_type": "code",
   "execution_count": 2,
   "metadata": {},
   "outputs": [],
   "source": [
    "loader = Loader()\n",
    "loader.load_data(\"data\", \"Dry_room_Last_month.csv\")"
   ]
  },
  {
   "cell_type": "code",
   "execution_count": 3,
   "metadata": {},
   "outputs": [
    {
     "name": "stdout",
     "output_type": "stream",
     "text": [
      "[ ]: Column 'trigger_ts_utc' has 42827 unique values\n",
      "[ ]: Column 'measured_value' has 86738 unique values\n",
      "[!]: Column 'ns' has 1 unique values\n",
      "[!]: Column 'machine' has 1 unique values\n",
      "[ ]: Column 'errection_location' has 4 unique values\n",
      "[ ]: Column 'installation_location' has 10 unique values\n",
      "[ ]: Column 'components' has 17 unique values\n",
      "[ ]: Column 'sensor_type' has 7 unique values\n"
     ]
    }
   ],
   "source": [
    "loader.print_column_info()"
   ]
  },
  {
   "cell_type": "code",
   "execution_count": 4,
   "metadata": {},
   "outputs": [],
   "source": [
    "loader.save_data(path=\"data\", file=\"preprocessed_data.csv\")"
   ]
  },
  {
   "cell_type": "code",
   "execution_count": null,
   "metadata": {},
   "outputs": [],
   "source": []
  }
 ],
 "metadata": {
  "kernelspec": {
   "display_name": "Python 3 (ipykernel)",
   "language": "python",
   "name": "python3"
  },
  "language_info": {
   "codemirror_mode": {
    "name": "ipython",
    "version": 3
   },
   "file_extension": ".py",
   "mimetype": "text/x-python",
   "name": "python",
   "nbconvert_exporter": "python",
   "pygments_lexer": "ipython3",
   "version": "undefined.undefined.undefined"
  }
 },
 "nbformat": 4,
 "nbformat_minor": 4
}
