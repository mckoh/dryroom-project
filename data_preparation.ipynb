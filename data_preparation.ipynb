{
 "cells": [
  {
   "cell_type": "markdown",
   "metadata": {},
   "source": [
    "# BMW Project Scouting"
   ]
  },
  {
   "cell_type": "code",
   "execution_count": 1,
   "metadata": {},
   "outputs": [],
   "source": [
    "from bmwprophet.loader import Loader"
   ]
  },
  {
   "cell_type": "code",
   "execution_count": 2,
   "metadata": {},
   "outputs": [],
   "source": [
    "loader = Loader()\n",
    "loader.load_data(\"data\", \"Dry_room_Last_month.csv\")"
   ]
  },
  {
   "cell_type": "code",
   "execution_count": 3,
   "metadata": {},
   "outputs": [
    {
     "name": "stdout",
     "output_type": "stream",
     "text": [
      "[ ]: Column 'trigger_ts_utc' has 42827 unique values\n",
      "[ ]: Column 'measured_value' has 86738 unique values\n",
      "[!]: Column 'ns' has 1 unique values\n",
      "[!]: Column 'machine' has 1 unique values\n",
      "[ ]: Column 'errection_location' has 4 unique values\n",
      "[ ]: Column 'installation_location' has 10 unique values\n",
      "[ ]: Column 'components' has 17 unique values\n",
      "[ ]: Column 'sensor_type' has 7 unique values\n"
     ]
    }
   ],
   "source": [
    "loader.print_column_info()"
   ]
  },
  {
   "cell_type": "code",
   "execution_count": 4,
   "metadata": {},
   "outputs": [],
   "source": [
    "loader.save_data(path=\"data\", file=\"preprocessed_data.csv\")"
   ]
  },
  {
   "cell_type": "markdown",
   "metadata": {},
   "source": [
    "## Adavanced Saving"
   ]
  },
  {
   "cell_type": "code",
   "execution_count": 5,
   "metadata": {},
   "outputs": [],
   "source": [
    "data = loader.get_data()"
   ]
  },
  {
   "cell_type": "code",
   "execution_count": null,
   "metadata": {},
   "outputs": [
    {
     "name": "stderr",
     "output_type": "stream",
     "text": [
      "C:\\Users\\LEKOHLEGGER\\AppData\\Local\\Temp\\ipykernel_15604\\3382699380.py:10: SettingWithCopyWarning: \n",
      "A value is trying to be set on a copy of a slice from a DataFrame\n",
      "\n",
      "See the caveats in the documentation: https://pandas.pydata.org/pandas-docs/stable/user_guide/indexing.html#returning-a-view-versus-a-copy\n",
      "  ___data.drop(\"trigger_ts_utc\", axis=1, inplace=True)\n",
      "C:\\Users\\LEKOHLEGGER\\AppData\\Local\\Temp\\ipykernel_15604\\3382699380.py:10: SettingWithCopyWarning: \n",
      "A value is trying to be set on a copy of a slice from a DataFrame\n",
      "\n",
      "See the caveats in the documentation: https://pandas.pydata.org/pandas-docs/stable/user_guide/indexing.html#returning-a-view-versus-a-copy\n",
      "  ___data.drop(\"trigger_ts_utc\", axis=1, inplace=True)\n",
      "C:\\Users\\LEKOHLEGGER\\AppData\\Local\\Temp\\ipykernel_15604\\3382699380.py:10: SettingWithCopyWarning: \n",
      "A value is trying to be set on a copy of a slice from a DataFrame\n",
      "\n",
      "See the caveats in the documentation: https://pandas.pydata.org/pandas-docs/stable/user_guide/indexing.html#returning-a-view-versus-a-copy\n",
      "  ___data.drop(\"trigger_ts_utc\", axis=1, inplace=True)\n",
      "C:\\Users\\LEKOHLEGGER\\AppData\\Local\\Temp\\ipykernel_15604\\3382699380.py:10: SettingWithCopyWarning: \n",
      "A value is trying to be set on a copy of a slice from a DataFrame\n",
      "\n",
      "See the caveats in the documentation: https://pandas.pydata.org/pandas-docs/stable/user_guide/indexing.html#returning-a-view-versus-a-copy\n",
      "  ___data.drop(\"trigger_ts_utc\", axis=1, inplace=True)\n",
      "C:\\Users\\LEKOHLEGGER\\AppData\\Local\\Temp\\ipykernel_15604\\3382699380.py:10: SettingWithCopyWarning: \n",
      "A value is trying to be set on a copy of a slice from a DataFrame\n",
      "\n",
      "See the caveats in the documentation: https://pandas.pydata.org/pandas-docs/stable/user_guide/indexing.html#returning-a-view-versus-a-copy\n",
      "  ___data.drop(\"trigger_ts_utc\", axis=1, inplace=True)\n",
      "C:\\Users\\LEKOHLEGGER\\AppData\\Local\\Temp\\ipykernel_15604\\3382699380.py:10: SettingWithCopyWarning: \n",
      "A value is trying to be set on a copy of a slice from a DataFrame\n",
      "\n",
      "See the caveats in the documentation: https://pandas.pydata.org/pandas-docs/stable/user_guide/indexing.html#returning-a-view-versus-a-copy\n",
      "  ___data.drop(\"trigger_ts_utc\", axis=1, inplace=True)\n",
      "C:\\Users\\LEKOHLEGGER\\AppData\\Local\\Temp\\ipykernel_15604\\3382699380.py:10: SettingWithCopyWarning: \n",
      "A value is trying to be set on a copy of a slice from a DataFrame\n",
      "\n",
      "See the caveats in the documentation: https://pandas.pydata.org/pandas-docs/stable/user_guide/indexing.html#returning-a-view-versus-a-copy\n",
      "  ___data.drop(\"trigger_ts_utc\", axis=1, inplace=True)\n",
      "C:\\Users\\LEKOHLEGGER\\AppData\\Local\\Temp\\ipykernel_15604\\3382699380.py:10: SettingWithCopyWarning: \n",
      "A value is trying to be set on a copy of a slice from a DataFrame\n",
      "\n",
      "See the caveats in the documentation: https://pandas.pydata.org/pandas-docs/stable/user_guide/indexing.html#returning-a-view-versus-a-copy\n",
      "  ___data.drop(\"trigger_ts_utc\", axis=1, inplace=True)\n",
      "C:\\Users\\LEKOHLEGGER\\AppData\\Local\\Temp\\ipykernel_15604\\3382699380.py:10: SettingWithCopyWarning: \n",
      "A value is trying to be set on a copy of a slice from a DataFrame\n",
      "\n",
      "See the caveats in the documentation: https://pandas.pydata.org/pandas-docs/stable/user_guide/indexing.html#returning-a-view-versus-a-copy\n",
      "  ___data.drop(\"trigger_ts_utc\", axis=1, inplace=True)\n",
      "C:\\Users\\LEKOHLEGGER\\AppData\\Local\\Temp\\ipykernel_15604\\3382699380.py:10: SettingWithCopyWarning: \n",
      "A value is trying to be set on a copy of a slice from a DataFrame\n",
      "\n",
      "See the caveats in the documentation: https://pandas.pydata.org/pandas-docs/stable/user_guide/indexing.html#returning-a-view-versus-a-copy\n",
      "  ___data.drop(\"trigger_ts_utc\", axis=1, inplace=True)\n",
      "C:\\Users\\LEKOHLEGGER\\AppData\\Local\\Temp\\ipykernel_15604\\3382699380.py:10: SettingWithCopyWarning: \n",
      "A value is trying to be set on a copy of a slice from a DataFrame\n",
      "\n",
      "See the caveats in the documentation: https://pandas.pydata.org/pandas-docs/stable/user_guide/indexing.html#returning-a-view-versus-a-copy\n",
      "  ___data.drop(\"trigger_ts_utc\", axis=1, inplace=True)\n",
      "C:\\Users\\LEKOHLEGGER\\AppData\\Local\\Temp\\ipykernel_15604\\3382699380.py:10: SettingWithCopyWarning: \n",
      "A value is trying to be set on a copy of a slice from a DataFrame\n",
      "\n",
      "See the caveats in the documentation: https://pandas.pydata.org/pandas-docs/stable/user_guide/indexing.html#returning-a-view-versus-a-copy\n",
      "  ___data.drop(\"trigger_ts_utc\", axis=1, inplace=True)\n",
      "C:\\Users\\LEKOHLEGGER\\AppData\\Local\\Temp\\ipykernel_15604\\3382699380.py:10: SettingWithCopyWarning: \n",
      "A value is trying to be set on a copy of a slice from a DataFrame\n",
      "\n",
      "See the caveats in the documentation: https://pandas.pydata.org/pandas-docs/stable/user_guide/indexing.html#returning-a-view-versus-a-copy\n",
      "  ___data.drop(\"trigger_ts_utc\", axis=1, inplace=True)\n",
      "C:\\Users\\LEKOHLEGGER\\AppData\\Local\\Temp\\ipykernel_15604\\3382699380.py:10: SettingWithCopyWarning: \n",
      "A value is trying to be set on a copy of a slice from a DataFrame\n",
      "\n",
      "See the caveats in the documentation: https://pandas.pydata.org/pandas-docs/stable/user_guide/indexing.html#returning-a-view-versus-a-copy\n",
      "  ___data.drop(\"trigger_ts_utc\", axis=1, inplace=True)\n",
      "C:\\Users\\LEKOHLEGGER\\AppData\\Local\\Temp\\ipykernel_15604\\3382699380.py:10: SettingWithCopyWarning: \n",
      "A value is trying to be set on a copy of a slice from a DataFrame\n",
      "\n",
      "See the caveats in the documentation: https://pandas.pydata.org/pandas-docs/stable/user_guide/indexing.html#returning-a-view-versus-a-copy\n",
      "  ___data.drop(\"trigger_ts_utc\", axis=1, inplace=True)\n",
      "C:\\Users\\LEKOHLEGGER\\AppData\\Local\\Temp\\ipykernel_15604\\3382699380.py:10: SettingWithCopyWarning: \n",
      "A value is trying to be set on a copy of a slice from a DataFrame\n",
      "\n",
      "See the caveats in the documentation: https://pandas.pydata.org/pandas-docs/stable/user_guide/indexing.html#returning-a-view-versus-a-copy\n",
      "  ___data.drop(\"trigger_ts_utc\", axis=1, inplace=True)\n",
      "C:\\Users\\LEKOHLEGGER\\AppData\\Local\\Temp\\ipykernel_15604\\3382699380.py:10: SettingWithCopyWarning: \n",
      "A value is trying to be set on a copy of a slice from a DataFrame\n",
      "\n",
      "See the caveats in the documentation: https://pandas.pydata.org/pandas-docs/stable/user_guide/indexing.html#returning-a-view-versus-a-copy\n",
      "  ___data.drop(\"trigger_ts_utc\", axis=1, inplace=True)\n",
      "C:\\Users\\LEKOHLEGGER\\AppData\\Local\\Temp\\ipykernel_15604\\3382699380.py:10: SettingWithCopyWarning: \n",
      "A value is trying to be set on a copy of a slice from a DataFrame\n",
      "\n",
      "See the caveats in the documentation: https://pandas.pydata.org/pandas-docs/stable/user_guide/indexing.html#returning-a-view-versus-a-copy\n",
      "  ___data.drop(\"trigger_ts_utc\", axis=1, inplace=True)\n",
      "C:\\Users\\LEKOHLEGGER\\AppData\\Local\\Temp\\ipykernel_15604\\3382699380.py:10: SettingWithCopyWarning: \n",
      "A value is trying to be set on a copy of a slice from a DataFrame\n",
      "\n",
      "See the caveats in the documentation: https://pandas.pydata.org/pandas-docs/stable/user_guide/indexing.html#returning-a-view-versus-a-copy\n",
      "  ___data.drop(\"trigger_ts_utc\", axis=1, inplace=True)\n",
      "C:\\Users\\LEKOHLEGGER\\AppData\\Local\\Temp\\ipykernel_15604\\3382699380.py:10: SettingWithCopyWarning: \n",
      "A value is trying to be set on a copy of a slice from a DataFrame\n",
      "\n",
      "See the caveats in the documentation: https://pandas.pydata.org/pandas-docs/stable/user_guide/indexing.html#returning-a-view-versus-a-copy\n",
      "  ___data.drop(\"trigger_ts_utc\", axis=1, inplace=True)\n",
      "C:\\Users\\LEKOHLEGGER\\AppData\\Local\\Temp\\ipykernel_15604\\3382699380.py:10: SettingWithCopyWarning: \n",
      "A value is trying to be set on a copy of a slice from a DataFrame\n",
      "\n",
      "See the caveats in the documentation: https://pandas.pydata.org/pandas-docs/stable/user_guide/indexing.html#returning-a-view-versus-a-copy\n",
      "  ___data.drop(\"trigger_ts_utc\", axis=1, inplace=True)\n",
      "C:\\Users\\LEKOHLEGGER\\AppData\\Local\\Temp\\ipykernel_15604\\3382699380.py:10: SettingWithCopyWarning: \n",
      "A value is trying to be set on a copy of a slice from a DataFrame\n",
      "\n",
      "See the caveats in the documentation: https://pandas.pydata.org/pandas-docs/stable/user_guide/indexing.html#returning-a-view-versus-a-copy\n",
      "  ___data.drop(\"trigger_ts_utc\", axis=1, inplace=True)\n",
      "C:\\Users\\LEKOHLEGGER\\AppData\\Local\\Temp\\ipykernel_15604\\3382699380.py:10: SettingWithCopyWarning: \n",
      "A value is trying to be set on a copy of a slice from a DataFrame\n",
      "\n",
      "See the caveats in the documentation: https://pandas.pydata.org/pandas-docs/stable/user_guide/indexing.html#returning-a-view-versus-a-copy\n",
      "  ___data.drop(\"trigger_ts_utc\", axis=1, inplace=True)\n",
      "C:\\Users\\LEKOHLEGGER\\AppData\\Local\\Temp\\ipykernel_15604\\3382699380.py:10: SettingWithCopyWarning: \n",
      "A value is trying to be set on a copy of a slice from a DataFrame\n",
      "\n",
      "See the caveats in the documentation: https://pandas.pydata.org/pandas-docs/stable/user_guide/indexing.html#returning-a-view-versus-a-copy\n",
      "  ___data.drop(\"trigger_ts_utc\", axis=1, inplace=True)\n"
     ]
    }
   ],
   "source": [
    "for eloc in data.errection_location.unique():\n",
    "    _data = data.loc[data.errection_location==eloc]\n",
    "    for iloc in data.installation_location.unique():\n",
    "        __data = _data.loc[data.installation_location==iloc]\n",
    "        for comp in __data.components.unique():\n",
    "            ___data = __data.loc[__data.components==comp]\n",
    "            for sensor in ___data.sensor_type.unique():\n",
    "                ____data = ___data.loc[___data.sensor_type==sensor]\n",
    "                ___data.index = ___data.trigger_ts_utc\n",
    "                ___data.drop(\"trigger_ts_utc\", axis=1, inplace=True)\n",
    "\n",
    "                grouped = ___data.groupby(level=0)\n",
    "                ___data = grouped.last()\n",
    "                ___data = ___data.resample('30s').ffill()\n",
    "\n",
    "                ___data.to_csv(f\"data/standalone/{eloc}_{iloc}_{comp}_{sensor}.csv\")"
   ]
  },
  {
   "cell_type": "code",
   "execution_count": null,
   "metadata": {},
   "outputs": [],
   "source": []
  }
 ],
 "metadata": {
  "kernelspec": {
   "display_name": "Python 3",
   "language": "python",
   "name": "python3"
  },
  "language_info": {
   "codemirror_mode": {
    "name": "ipython",
    "version": 3
   },
   "file_extension": ".py",
   "mimetype": "text/x-python",
   "name": "python",
   "nbconvert_exporter": "python",
   "pygments_lexer": "ipython3",
   "version": "3.13.0"
  }
 },
 "nbformat": 4,
 "nbformat_minor": 4
}
